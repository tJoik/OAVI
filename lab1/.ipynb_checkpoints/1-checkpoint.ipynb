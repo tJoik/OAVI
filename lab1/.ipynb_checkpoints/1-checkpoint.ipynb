{
 "cells": [
  {
   "cell_type": "code",
   "execution_count": null,
   "id": "435ff05b",
   "metadata": {
    "lines_to_next_cell": 1
   },
   "outputs": [],
   "source": [
    "import numpy as np\n",
    "import cv2"
   ]
  },
  {
   "cell_type": "code",
   "execution_count": null,
   "id": "dd90cd85",
   "metadata": {
    "lines_to_next_cell": 1
   },
   "outputs": [],
   "source": [
    "# Функция загрузки изображения\n",
    "def load_image(image_path):\n",
    "    return cv2.imread(image_path, cv2.IMREAD_COLOR)"
   ]
  },
  {
   "cell_type": "code",
   "execution_count": null,
   "id": "25f9cd6e",
   "metadata": {
    "lines_to_next_cell": 1
   },
   "outputs": [],
   "source": [
    "# Функция сохранения изображения\n",
    "def save_image(image, filename):\n",
    "    cv2.imwrite(filename, image)"
   ]
  },
  {
   "cell_type": "code",
   "execution_count": null,
   "id": "480809ec",
   "metadata": {
    "lines_to_next_cell": 1
   },
   "outputs": [],
   "source": [
    "# 1.1 Разбиение изображения на каналы R, G, B\n",
    "def split_rgb(image):\n",
    "    B, G, R = cv2.split(image)\n",
    "    save_image(R, \"1.1_R_channel.png\")\n",
    "    save_image(G, \"1.1_G_channel.png\")\n",
    "    save_image(B, \"1.1_B_channel.png\")\n",
    "    \n",
    "    R_colored = np.zeros_like(image)\n",
    "    R_colored[:, :, 2] = R\n",
    "    G_colored = np.zeros_like(image)\n",
    "    G_colored[:, :, 1] = G\n",
    "    B_colored = np.zeros_like(image)\n",
    "    B_colored[:, :, 0] = B\n",
    "    \n",
    "    save_image(R_colored, \"1.1_R_colored.png\")\n",
    "    save_image(G_colored, \"1.1_G_colored.png\")\n",
    "    save_image(B_colored, \"1.1_B_colored.png\")\n",
    "    \n",
    "    return R, G, B"
   ]
  },
  {
   "cell_type": "code",
   "execution_count": null,
   "id": "5de57329",
   "metadata": {
    "lines_to_next_cell": 1
   },
   "outputs": [],
   "source": [
    "# 1.2 Преобразование RGB в HSL и сохранение яркостной компоненты\n",
    "def rgb_to_hsl(image):\n",
    "    B, G, R = image[:,:,0] / 255.0, image[:,:,1] / 255.0, image[:,:,2] / 255.0\n",
    "    C_max = np.maximum(R, np.maximum(G, B))\n",
    "    C_min = np.minimum(R, np.minimum(G, B))\n",
    "    delta = C_max - C_min\n",
    "    \n",
    "    # Вычисление оттенка (H)\n",
    "    H = np.zeros_like(C_max)\n",
    "    mask = delta != 0\n",
    "    \n",
    "    H[mask & (C_max == R)] = 60 * (((G[mask & (C_max == R)] - B[mask & (C_max == R)]) / delta[mask & (C_max == R)]) % 6)\n",
    "    H[mask & (C_max == G)] = 60 * (((B[mask & (C_max == G)] - R[mask & (C_max == G)]) / delta[mask & (C_max == G)]) + 2)\n",
    "    H[mask & (C_max == B)] = 60 * (((R[mask & (C_max == B)] - G[mask & (C_max == B)]) / delta[mask & (C_max == B)]) + 4)\n",
    "    \n",
    "    # Вычисление насыщенности (S)\n",
    "    S = np.zeros_like(C_max)\n",
    "    S[C_max != 0] = delta[C_max != 0] / C_max[C_max != 0]\n",
    "    \n",
    "    # Вычисление яркости (L)\n",
    "    L = (C_max + C_min) / 2\n",
    "    \n",
    "    save_image((L * 255).astype(np.uint8), \"1.2_Brightness_component.png\")\n",
    "    return H, S, L"
   ]
  },
  {
   "cell_type": "code",
   "execution_count": null,
   "id": "4062e2f3",
   "metadata": {
    "lines_to_next_cell": 1
   },
   "outputs": [],
   "source": [
    "# 1.3 Инверсия яркости изображения\n",
    "def invert_intensity(image):\n",
    "    _, _, L = rgb_to_hsl(image)\n",
    "    inverted_image = np.clip(255 - (L * 255), 0, 255).astype(np.uint8)\n",
    "    save_image(inverted_image, \"1.3_Inverted_intensity.png\")"
   ]
  },
  {
   "cell_type": "code",
   "execution_count": null,
   "id": "096ec1bc",
   "metadata": {
    "lines_to_next_cell": 1
   },
   "outputs": [],
   "source": [
    "# 2.1 Увеличение изображения методом ближайшего соседа\n",
    "def nearest_neighbor_resize(image, M):\n",
    "    h, w, c = image.shape\n",
    "    new_h, new_w = int(h * M), int(w * M)\n",
    "    resized = np.zeros((new_h, new_w, c), dtype=np.uint8)\n",
    "    for i in range(new_h):\n",
    "        for j in range(new_w):\n",
    "            x, y = int(i / M), int(j / M)\n",
    "            resized[i, j] = image[x, y]\n",
    "    return resized"
   ]
  },
  {
   "cell_type": "code",
   "execution_count": null,
   "id": "7550909c",
   "metadata": {
    "lines_to_next_cell": 1
   },
   "outputs": [],
   "source": [
    "# 2.2 Уменьшение изображения методом пропуска строк и столбцов\n",
    "def downsample(image, N):\n",
    "    return image[::N, ::N]"
   ]
  },
  {
   "cell_type": "code",
   "execution_count": null,
   "id": "24f1da88",
   "metadata": {
    "lines_to_next_cell": 1
   },
   "outputs": [],
   "source": [
    "# 2.3 Передискретизация в два прохода\n",
    "def resample_two_pass(image, M, N):\n",
    "    upsampled = nearest_neighbor_resize(image, M)\n",
    "    downsampled = downsample(upsampled, N)\n",
    "    return downsampled"
   ]
  },
  {
   "cell_type": "code",
   "execution_count": null,
   "id": "b83e8e7b",
   "metadata": {
    "lines_to_next_cell": 1
   },
   "outputs": [],
   "source": [
    "# 2.4 Передискретизация за один проход\n",
    "def resample_one_pass(image, K):\n",
    "    return nearest_neighbor_resize(image, K)"
   ]
  },
  {
   "cell_type": "code",
   "execution_count": null,
   "id": "474a54c0",
   "metadata": {},
   "outputs": [],
   "source": [
    "# === Получение параметров от пользователя ===\n",
    "image_path = \"image.png\"\n",
    "M = float(input(\"Введите коэффициент увеличения M: \"))\n",
    "N = int(input(\"Введите коэффициент уменьшения N: \"))\n",
    "K = M / N  # Автоматический расчет K"
   ]
  },
  {
   "cell_type": "code",
   "execution_count": null,
   "id": "90390731",
   "metadata": {},
   "outputs": [],
   "source": [
    "image = load_image(image_path)"
   ]
  },
  {
   "cell_type": "code",
   "execution_count": null,
   "id": "0ac6a178",
   "metadata": {},
   "outputs": [],
   "source": [
    "split_rgb(image)\n",
    "rgb_to_hsl(image)\n",
    "invert_intensity(image)"
   ]
  },
  {
   "cell_type": "code",
   "execution_count": null,
   "id": "d429f6e8",
   "metadata": {},
   "outputs": [],
   "source": [
    "save_image(nearest_neighbor_resize(image, M), \"2.1_Interpolation.png\")\n",
    "save_image(downsample(image, N), \"2.2_Decimation.png\")"
   ]
  },
  {
   "cell_type": "code",
   "execution_count": null,
   "id": "5c05802b",
   "metadata": {},
   "outputs": [],
   "source": [
    "resized_MN = resample_two_pass(image, M, N)\n",
    "save_image(resized_MN, \"2.3_Resized_MN.png\")"
   ]
  },
  {
   "cell_type": "code",
   "execution_count": null,
   "id": "107188e6",
   "metadata": {},
   "outputs": [],
   "source": [
    "resized_K = resample_one_pass(image, K)\n",
    "save_image(resized_K, \"2.4_Resized_K.png\")"
   ]
  }
 ],
 "metadata": {
  "jupytext": {
   "cell_metadata_filter": "-all",
   "main_language": "python",
   "notebook_metadata_filter": "-all"
  }
 },
 "nbformat": 4,
 "nbformat_minor": 5
}
